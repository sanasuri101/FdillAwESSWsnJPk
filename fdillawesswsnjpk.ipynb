{
 "cells": [
  {
   "cell_type": "code",
   "execution_count": 1,
   "id": "db1bec3b",
   "metadata": {
    "_cell_guid": "b1076dfc-b9ad-4769-8c92-a6c4dae69d19",
    "_uuid": "8f2839f25d086af736a60e9eeb907d3b93b6e0e5",
    "execution": {
     "iopub.execute_input": "2022-09-18T18:22:21.374036Z",
     "iopub.status.busy": "2022-09-18T18:22:21.373403Z",
     "iopub.status.idle": "2022-09-18T18:22:21.396723Z",
     "shell.execute_reply": "2022-09-18T18:22:21.395487Z"
    },
    "papermill": {
     "duration": 0.033727,
     "end_time": "2022-09-18T18:22:21.399513",
     "exception": false,
     "start_time": "2022-09-18T18:22:21.365786",
     "status": "completed"
    },
    "tags": []
   },
   "outputs": [
    {
     "name": "stdout",
     "output_type": "stream",
     "text": [
      "/kaggle/input/happy-customers/ACME-HappinessSurvey2020.csv\n"
     ]
    }
   ],
   "source": [
    "# This Python 3 environment comes with many helpful analytics libraries installed\n",
    "# It is defined by the kaggle/python Docker image: https://github.com/kaggle/docker-python\n",
    "# For example, here's several helpful packages to load\n",
    "\n",
    "import numpy as np # linear algebra\n",
    "import pandas as pd # data processing, CSV file I/O (e.g. pd.read_csv)\n",
    "\n",
    "# Input data files are available in the read-only \"../input/\" directory\n",
    "# For example, running this (by clicking run or pressing Shift+Enter) will list all files under the input directory\n",
    "\n",
    "import os\n",
    "for dirname, _, filenames in os.walk('/kaggle/input'):\n",
    "    for filename in filenames:\n",
    "        print(os.path.join(dirname, filename))\n",
    "\n",
    "# You can write up to 20GB to the current directory (/kaggle/working/) that gets preserved as output when you create a version using \"Save & Run All\" \n",
    "# You can also write temporary files to /kaggle/temp/, but they won't be saved outside of the current session"
   ]
  },
  {
   "cell_type": "code",
   "execution_count": 2,
   "id": "13f75046",
   "metadata": {
    "execution": {
     "iopub.execute_input": "2022-09-18T18:22:21.410353Z",
     "iopub.status.busy": "2022-09-18T18:22:21.409624Z",
     "iopub.status.idle": "2022-09-18T18:22:22.798107Z",
     "shell.execute_reply": "2022-09-18T18:22:22.796801Z"
    },
    "papermill": {
     "duration": 1.397096,
     "end_time": "2022-09-18T18:22:22.801042",
     "exception": false,
     "start_time": "2022-09-18T18:22:21.403946",
     "status": "completed"
    },
    "tags": []
   },
   "outputs": [],
   "source": [
    "from sklearn import metrics\n",
    "from sklearn.model_selection import RandomizedSearchCV, GridSearchCV\n",
    "import xgboost as xgb"
   ]
  },
  {
   "cell_type": "code",
   "execution_count": 3,
   "id": "9f364b0b",
   "metadata": {
    "execution": {
     "iopub.execute_input": "2022-09-18T18:22:22.811999Z",
     "iopub.status.busy": "2022-09-18T18:22:22.811589Z",
     "iopub.status.idle": "2022-09-18T18:22:22.828061Z",
     "shell.execute_reply": "2022-09-18T18:22:22.826902Z"
    },
    "papermill": {
     "duration": 0.025363,
     "end_time": "2022-09-18T18:22:22.830926",
     "exception": false,
     "start_time": "2022-09-18T18:22:22.805563",
     "status": "completed"
    },
    "tags": []
   },
   "outputs": [],
   "source": [
    "train = pd.read_csv('/kaggle/input/happy-customers/ACME-HappinessSurvey2020.csv')"
   ]
  },
  {
   "cell_type": "code",
   "execution_count": 4,
   "id": "fa953f05",
   "metadata": {
    "execution": {
     "iopub.execute_input": "2022-09-18T18:22:22.841068Z",
     "iopub.status.busy": "2022-09-18T18:22:22.840648Z",
     "iopub.status.idle": "2022-09-18T18:22:22.860707Z",
     "shell.execute_reply": "2022-09-18T18:22:22.859143Z"
    },
    "papermill": {
     "duration": 0.028063,
     "end_time": "2022-09-18T18:22:22.863194",
     "exception": false,
     "start_time": "2022-09-18T18:22:22.835131",
     "status": "completed"
    },
    "tags": []
   },
   "outputs": [
    {
     "data": {
      "text/plain": [
       "1    69\n",
       "0    57\n",
       "Name: Y, dtype: int64"
      ]
     },
     "execution_count": 4,
     "metadata": {},
     "output_type": "execute_result"
    }
   ],
   "source": [
    "train.Y.value_counts()"
   ]
  },
  {
   "cell_type": "code",
   "execution_count": 5,
   "id": "8448d6a5",
   "metadata": {
    "execution": {
     "iopub.execute_input": "2022-09-18T18:22:22.873864Z",
     "iopub.status.busy": "2022-09-18T18:22:22.873483Z",
     "iopub.status.idle": "2022-09-18T18:22:22.882533Z",
     "shell.execute_reply": "2022-09-18T18:22:22.881254Z"
    },
    "papermill": {
     "duration": 0.01737,
     "end_time": "2022-09-18T18:22:22.884985",
     "exception": false,
     "start_time": "2022-09-18T18:22:22.867615",
     "status": "completed"
    },
    "tags": []
   },
   "outputs": [
    {
     "data": {
      "text/plain": [
       "Y     0\n",
       "X1    0\n",
       "X2    0\n",
       "X3    0\n",
       "X4    0\n",
       "X5    0\n",
       "X6    0\n",
       "dtype: int64"
      ]
     },
     "execution_count": 5,
     "metadata": {},
     "output_type": "execute_result"
    }
   ],
   "source": [
    "train.isna().sum()"
   ]
  },
  {
   "cell_type": "code",
   "execution_count": 6,
   "id": "e50fb10c",
   "metadata": {
    "execution": {
     "iopub.execute_input": "2022-09-18T18:22:22.895916Z",
     "iopub.status.busy": "2022-09-18T18:22:22.895533Z",
     "iopub.status.idle": "2022-09-18T18:22:22.901032Z",
     "shell.execute_reply": "2022-09-18T18:22:22.899634Z"
    },
    "papermill": {
     "duration": 0.013789,
     "end_time": "2022-09-18T18:22:22.903396",
     "exception": false,
     "start_time": "2022-09-18T18:22:22.889607",
     "status": "completed"
    },
    "tags": []
   },
   "outputs": [],
   "source": [
    "features = [feature for feature in train if feature.startswith('X')]"
   ]
  },
  {
   "cell_type": "code",
   "execution_count": 7,
   "id": "7690c71e",
   "metadata": {
    "execution": {
     "iopub.execute_input": "2022-09-18T18:22:22.914271Z",
     "iopub.status.busy": "2022-09-18T18:22:22.913891Z",
     "iopub.status.idle": "2022-09-18T18:22:22.923269Z",
     "shell.execute_reply": "2022-09-18T18:22:22.921994Z"
    },
    "papermill": {
     "duration": 0.017389,
     "end_time": "2022-09-18T18:22:22.925339",
     "exception": false,
     "start_time": "2022-09-18T18:22:22.907950",
     "status": "completed"
    },
    "tags": []
   },
   "outputs": [],
   "source": [
    "for fea in features:\n",
    "    if (train[fea].nunique() == 1):\n",
    "        print(fea)"
   ]
  },
  {
   "cell_type": "code",
   "execution_count": 8,
   "id": "a77117d9",
   "metadata": {
    "execution": {
     "iopub.execute_input": "2022-09-18T18:22:22.936025Z",
     "iopub.status.busy": "2022-09-18T18:22:22.935630Z",
     "iopub.status.idle": "2022-09-18T18:22:22.944075Z",
     "shell.execute_reply": "2022-09-18T18:22:22.942836Z"
    },
    "papermill": {
     "duration": 0.01636,
     "end_time": "2022-09-18T18:22:22.946359",
     "exception": false,
     "start_time": "2022-09-18T18:22:22.929999",
     "status": "completed"
    },
    "tags": []
   },
   "outputs": [],
   "source": [
    "X = train.drop(columns = ['Y'])\n",
    "y = train[['Y']]"
   ]
  },
  {
   "cell_type": "code",
   "execution_count": 9,
   "id": "bb7e76ed",
   "metadata": {
    "execution": {
     "iopub.execute_input": "2022-09-18T18:22:22.957104Z",
     "iopub.status.busy": "2022-09-18T18:22:22.956720Z",
     "iopub.status.idle": "2022-09-18T18:22:22.967385Z",
     "shell.execute_reply": "2022-09-18T18:22:22.966257Z"
    },
    "papermill": {
     "duration": 0.018749,
     "end_time": "2022-09-18T18:22:22.969662",
     "exception": false,
     "start_time": "2022-09-18T18:22:22.950913",
     "status": "completed"
    },
    "tags": []
   },
   "outputs": [
    {
     "data": {
      "text/plain": [
       "((88, 6), (38, 6), (88, 1), (38, 1))"
      ]
     },
     "execution_count": 9,
     "metadata": {},
     "output_type": "execute_result"
    }
   ],
   "source": [
    "from sklearn.model_selection import train_test_split\n",
    "\n",
    "X_train, X_valid, y_train, y_valid = train_test_split(X, y, test_size = 0.3)\n",
    "X_train.shape, X_valid.shape, y_train.shape, y_valid.shape"
   ]
  },
  {
   "cell_type": "code",
   "execution_count": 10,
   "id": "e963fca5",
   "metadata": {
    "execution": {
     "iopub.execute_input": "2022-09-18T18:22:22.980684Z",
     "iopub.status.busy": "2022-09-18T18:22:22.980235Z",
     "iopub.status.idle": "2022-09-18T18:22:22.986634Z",
     "shell.execute_reply": "2022-09-18T18:22:22.985099Z"
    },
    "papermill": {
     "duration": 0.014702,
     "end_time": "2022-09-18T18:22:22.988988",
     "exception": false,
     "start_time": "2022-09-18T18:22:22.974286",
     "status": "completed"
    },
    "tags": []
   },
   "outputs": [],
   "source": [
    "model_xgb = xgb.XGBClassifier(n_estimators = 700)"
   ]
  },
  {
   "cell_type": "code",
   "execution_count": 11,
   "id": "7afdb223",
   "metadata": {
    "execution": {
     "iopub.execute_input": "2022-09-18T18:22:22.999925Z",
     "iopub.status.busy": "2022-09-18T18:22:22.999510Z",
     "iopub.status.idle": "2022-09-18T18:22:23.094373Z",
     "shell.execute_reply": "2022-09-18T18:22:23.092873Z"
    },
    "papermill": {
     "duration": 0.103273,
     "end_time": "2022-09-18T18:22:23.096948",
     "exception": false,
     "start_time": "2022-09-18T18:22:22.993675",
     "status": "completed"
    },
    "tags": []
   },
   "outputs": [
    {
     "name": "stdout",
     "output_type": "stream",
     "text": [
      "XGBClassifier(base_score=0.5, booster='gbtree', callbacks=None,\n",
      "              colsample_bylevel=1, colsample_bynode=1, colsample_bytree=1,\n",
      "              early_stopping_rounds=None, enable_categorical=False,\n",
      "              eval_metric=None, gamma=0, gpu_id=-1, grow_policy='depthwise',\n",
      "              importance_type=None, interaction_constraints='',\n",
      "              learning_rate=0.300000012, max_bin=256, max_cat_to_onehot=4,\n",
      "              max_delta_step=0, max_depth=6, max_leaves=0, min_child_weight=1,\n",
      "              missing=nan, monotone_constraints='()', n_estimators=700,\n",
      "              n_jobs=0, num_parallel_tree=1, predictor='auto', random_state=0,\n",
      "              reg_alpha=0, reg_lambda=1, ...)\n"
     ]
    },
    {
     "name": "stderr",
     "output_type": "stream",
     "text": [
      "/opt/conda/lib/python3.7/site-packages/xgboost/sklearn.py:797: UserWarning: `early_stopping_rounds` in `fit` method is deprecated for better compatibility with scikit-learn, use `early_stopping_rounds` in constructor or`set_params` instead.\n",
      "  UserWarning,\n"
     ]
    }
   ],
   "source": [
    "model_xgb.fit(X_train, y_train, \n",
    "            early_stopping_rounds=5, \n",
    "             eval_set=[(X_valid, y_valid)], \n",
    "             verbose=False)\n",
    "print(model_xgb)"
   ]
  },
  {
   "cell_type": "code",
   "execution_count": 12,
   "id": "b77bc0d5",
   "metadata": {
    "execution": {
     "iopub.execute_input": "2022-09-18T18:22:23.109610Z",
     "iopub.status.busy": "2022-09-18T18:22:23.108084Z",
     "iopub.status.idle": "2022-09-18T18:22:23.116800Z",
     "shell.execute_reply": "2022-09-18T18:22:23.115795Z"
    },
    "papermill": {
     "duration": 0.017196,
     "end_time": "2022-09-18T18:22:23.119245",
     "exception": false,
     "start_time": "2022-09-18T18:22:23.102049",
     "status": "completed"
    },
    "tags": []
   },
   "outputs": [],
   "source": [
    "model_xgb_tuned = xgb.XGBClassifier(base_score=0.5, booster='gbtree', callbacks=None,\n",
    "              colsample_bylevel=1, colsample_bynode=1, colsample_bytree=1,\n",
    "              early_stopping_rounds=None, enable_categorical=False,\n",
    "              eval_metric=None, gamma=0, gpu_id=-1, grow_policy='depthwise',\n",
    "              importance_type=None, interaction_constraints='',\n",
    "              learning_rate=0.300000012, max_bin=256, max_cat_to_onehot=4,\n",
    "              max_delta_step=0, max_depth=6, max_leaves=0, min_child_weight=1,\n",
    "              monotone_constraints='()', n_estimators=700,\n",
    "              n_jobs=0, num_parallel_tree=1, predictor='auto', random_state=0,\n",
    "              reg_alpha=0, reg_lambda=1)"
   ]
  },
  {
   "cell_type": "code",
   "execution_count": 13,
   "id": "a80069aa",
   "metadata": {
    "execution": {
     "iopub.execute_input": "2022-09-18T18:22:23.131458Z",
     "iopub.status.busy": "2022-09-18T18:22:23.130603Z",
     "iopub.status.idle": "2022-09-18T18:22:24.737198Z",
     "shell.execute_reply": "2022-09-18T18:22:24.736206Z"
    },
    "papermill": {
     "duration": 1.615464,
     "end_time": "2022-09-18T18:22:24.740140",
     "exception": false,
     "start_time": "2022-09-18T18:22:23.124676",
     "status": "completed"
    },
    "tags": []
   },
   "outputs": [
    {
     "name": "stdout",
     "output_type": "stream",
     "text": [
      "XGBClassifier(base_score=0.5, booster='gbtree', callbacks=None,\n",
      "              colsample_bylevel=1, colsample_bynode=1, colsample_bytree=1,\n",
      "              early_stopping_rounds=None, enable_categorical=False,\n",
      "              eval_metric=None, gamma=0, gpu_id=-1, grow_policy='depthwise',\n",
      "              importance_type=None, interaction_constraints='',\n",
      "              learning_rate=0.300000012, max_bin=256, max_cat_to_onehot=4,\n",
      "              max_delta_step=0, max_depth=6, max_leaves=0, min_child_weight=1,\n",
      "              missing=nan, monotone_constraints='()', n_estimators=700,\n",
      "              n_jobs=0, num_parallel_tree=1, predictor='auto', random_state=0,\n",
      "              reg_alpha=0, reg_lambda=1, ...)\n"
     ]
    }
   ],
   "source": [
    "model_xgb_tuned.fit(X, y,\n",
    "             verbose=False)\n",
    "print(model_xgb)"
   ]
  },
  {
   "cell_type": "code",
   "execution_count": 14,
   "id": "4b5372cc",
   "metadata": {
    "execution": {
     "iopub.execute_input": "2022-09-18T18:22:24.752131Z",
     "iopub.status.busy": "2022-09-18T18:22:24.751516Z",
     "iopub.status.idle": "2022-09-18T18:22:24.774420Z",
     "shell.execute_reply": "2022-09-18T18:22:24.773481Z"
    },
    "papermill": {
     "duration": 0.032011,
     "end_time": "2022-09-18T18:22:24.777176",
     "exception": false,
     "start_time": "2022-09-18T18:22:24.745165",
     "status": "completed"
    },
    "tags": []
   },
   "outputs": [
    {
     "name": "stdout",
     "output_type": "stream",
     "text": [
      "              precision    recall  f1-score   support\n",
      "\n",
      "           0       0.95      0.93      0.94        57\n",
      "           1       0.94      0.96      0.95        69\n",
      "\n",
      "    accuracy                           0.94       126\n",
      "   macro avg       0.94      0.94      0.94       126\n",
      "weighted avg       0.94      0.94      0.94       126\n",
      "\n",
      "[[53  4]\n",
      " [ 3 66]]\n"
     ]
    }
   ],
   "source": [
    "predictions_train = model_xgb_tuned.predict(X)\n",
    "print(metrics.classification_report(y, predictions_train))\n",
    "print(metrics.confusion_matrix(y, predictions_train))"
   ]
  }
 ],
 "metadata": {
  "kernelspec": {
   "display_name": "Python 3",
   "language": "python",
   "name": "python3"
  },
  "language_info": {
   "codemirror_mode": {
    "name": "ipython",
    "version": 3
   },
   "file_extension": ".py",
   "mimetype": "text/x-python",
   "name": "python",
   "nbconvert_exporter": "python",
   "pygments_lexer": "ipython3",
   "version": "3.7.12"
  },
  "papermill": {
   "default_parameters": {},
   "duration": 13.975222,
   "end_time": "2022-09-18T18:22:25.504141",
   "environment_variables": {},
   "exception": null,
   "input_path": "__notebook__.ipynb",
   "output_path": "__notebook__.ipynb",
   "parameters": {},
   "start_time": "2022-09-18T18:22:11.528919",
   "version": "2.3.4"
  }
 },
 "nbformat": 4,
 "nbformat_minor": 5
}
